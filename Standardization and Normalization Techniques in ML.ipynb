{
 "cells": [
  {
   "cell_type": "markdown",
   "id": "8f17d858",
   "metadata": {},
   "source": [
    "# 1. Standardization:"
   ]
  },
  {
   "cell_type": "code",
   "execution_count": null,
   "id": "5c2764ec",
   "metadata": {},
   "outputs": [],
   "source": [
    "\"\"\"\n",
    "This is the basic code for standard scaling implementation\n",
    "\"\"\"\n",
    "\n",
    "import the StandardScaler library from sklearn\n",
    "from sklearn.preprocessing import StandardScaler"
   ]
  },
  {
   "cell_type": "code",
   "execution_count": 2,
   "id": "9936b0eb",
   "metadata": {},
   "outputs": [],
   "source": [
    "# load Sample data\n",
    "data = [[1.0], [2.0], [3.0], [4.0], [5.0]]"
   ]
  },
  {
   "cell_type": "code",
   "execution_count": 3,
   "id": "d1346e5c",
   "metadata": {},
   "outputs": [],
   "source": [
    "# Create a StandardScaler instance\n",
    "scaler = StandardScaler()"
   ]
  },
  {
   "cell_type": "code",
   "execution_count": 4,
   "id": "3540a7a0",
   "metadata": {},
   "outputs": [],
   "source": [
    "# Fit and Transform the scaler to the data and transform the data\n",
    "scaled_data = scaler.fit_transform(data)"
   ]
  },
  {
   "cell_type": "code",
   "execution_count": 5,
   "id": "734cb2b6",
   "metadata": {},
   "outputs": [
    {
     "name": "stdout",
     "output_type": "stream",
     "text": [
      "[[-1.41421356]\n",
      " [-0.70710678]\n",
      " [ 0.        ]\n",
      " [ 0.70710678]\n",
      " [ 1.41421356]]\n"
     ]
    }
   ],
   "source": [
    "# Print the scaled data\n",
    "print(scaled_data)"
   ]
  },
  {
   "cell_type": "markdown",
   "id": "432eb901",
   "metadata": {},
   "source": [
    "# 2. Normalization :\n",
    "# 2-1:Min-Max scaling\n",
    "# 2-2:Mean normalization scaling\n",
    "# 2-3:Max-absolute scaling\n",
    "# 2-4:Robust scaling(Uses IQR method)"
   ]
  },
  {
   "cell_type": "code",
   "execution_count": 6,
   "id": "2a479213",
   "metadata": {},
   "outputs": [],
   "source": [
    "\"\"\"\n",
    "This is the basic code for MinMaxScaler implementation\n",
    "\"\"\"\n",
    "\n",
    "# import the MinMaxScaler library from sklearn\n",
    "from sklearn.preprocessing import MinMaxScaler\n",
    "from sklearn.preprocessing import Normalizer\n",
    "from sklearn.preprocessing import MaxAbsScaler\n",
    "from sklearn.preprocessing import RobustScaler"
   ]
  },
  {
   "cell_type": "code",
   "execution_count": 7,
   "id": "5c6d3c9e",
   "metadata": {},
   "outputs": [],
   "source": [
    "# load Sample data\n",
    "data = [[1.0], [2.0], [3.0], [4.0], [5.0]]"
   ]
  },
  {
   "cell_type": "code",
   "execution_count": 8,
   "id": "6e186cd6",
   "metadata": {},
   "outputs": [],
   "source": [
    "# Create a MinMaxScaler instance\n",
    "min_max_scaler = MinMaxScaler()\n",
    "normalize_scaler = Normalizer()\n",
    "max_abs_scaler = MaxAbsScaler()\n",
    "robust_Scaler = RobustScaler()"
   ]
  },
  {
   "cell_type": "code",
   "execution_count": 9,
   "id": "17e3e565",
   "metadata": {},
   "outputs": [],
   "source": [
    "# Fit and Transform the scaler to the data and transform the data\n",
    "scaled_data = min_max_scaler.fit_transform(data)"
   ]
  },
  {
   "cell_type": "code",
   "execution_count": 10,
   "id": "93c26f8d",
   "metadata": {},
   "outputs": [
    {
     "name": "stdout",
     "output_type": "stream",
     "text": [
      "[[0.  ]\n",
      " [0.25]\n",
      " [0.5 ]\n",
      " [0.75]\n",
      " [1.  ]]\n"
     ]
    }
   ],
   "source": [
    "# Print the scaled data\n",
    "print(scaled_data)"
   ]
  }
 ],
 "metadata": {
  "kernelspec": {
   "display_name": "Python 3 (ipykernel)",
   "language": "python",
   "name": "python3"
  },
  "language_info": {
   "codemirror_mode": {
    "name": "ipython",
    "version": 3
   },
   "file_extension": ".py",
   "mimetype": "text/x-python",
   "name": "python",
   "nbconvert_exporter": "python",
   "pygments_lexer": "ipython3",
   "version": "3.10.12"
  }
 },
 "nbformat": 4,
 "nbformat_minor": 5
}
